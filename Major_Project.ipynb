{
 "cells": [
  {
   "cell_type": "code",
   "execution_count": null,
   "id": "6b594fd9",
   "metadata": {},
   "outputs": [],
   "source": [
    "import pandas as pd\n"
   ]
  },
  {
   "cell_type": "code",
   "execution_count": null,
   "id": "8fb3d3c0",
   "metadata": {},
   "outputs": [],
   "source": [
    "from sklearn.metrics import confusion_matrix,classification_report,precision_score,recall_score,f1_score,accuracy_score\n",
    "from sklearn.model_selection import train_test_split\n",
    "from sklearn.preprocessing import LabelEncoder"
   ]
  },
  {
   "cell_type": "code",
   "execution_count": null,
   "id": "0d07765f",
   "metadata": {},
   "outputs": [],
   "source": [
    "from sklearn.neighbors import KNeighborsClassifier\n",
    "from sklearn.tree import DecisionTreeClassifier\n",
    "from sklearn.ensemble import RandomForestClassifier\n",
    "from sklearn.linear_model import LogisticRegression\n",
    "from sklearn.svm import SVC\n"
   ]
  },
  {
   "cell_type": "code",
   "execution_count": null,
   "id": "ebbbc71d",
   "metadata": {},
   "outputs": [],
   "source": [
    "d = pd.read_csv('adult (2).csv')\n"
   ]
  },
  {
   "cell_type": "code",
   "execution_count": null,
   "id": "7496a7b9",
   "metadata": {},
   "outputs": [],
   "source": [
    "d.columns = ['Age','Workclass','Fnlwgt','Education','education_num','marital_status','occupation',\n",
    "             'relationship','race','sex','capital_gain','capital_loss','hours_per_week','native_country','income']\n",
    "d"
   ]
  },
  {
   "cell_type": "code",
   "execution_count": null,
   "id": "f8add0ae",
   "metadata": {},
   "outputs": [],
   "source": [
    "d.drop(['Fnlwgt'],axis=1,inplace=True)\n",
    "d"
   ]
  },
  {
   "cell_type": "code",
   "execution_count": null,
   "id": "b0133817",
   "metadata": {},
   "outputs": [],
   "source": [
    "d.isnull().sum()"
   ]
  },
  {
   "cell_type": "code",
   "execution_count": null,
   "id": "f218f353",
   "metadata": {},
   "outputs": [],
   "source": [
    "lb = LabelEncoder()"
   ]
  },
  {
   "cell_type": "code",
   "execution_count": null,
   "id": "03c97202",
   "metadata": {},
   "outputs": [],
   "source": [
    "d['Workclass'] = lb.fit_transform(d['Workclass'])\n",
    "d['Education'] = lb.fit_transform(d['Education'])\n",
    "d['marital_status'] = lb.fit_transform(d['marital_status'])\n",
    "d['occupation'] = lb.fit_transform(d['occupation'])\n",
    "d['race'] = lb.fit_transform(d['race'])\n",
    "d['sex'] = lb.fit_transform(d['sex'])\n",
    "d['relationship'] = lb.fit_transform(d['relationship'])\n",
    "d['native_country'] = lb.fit_transform(d['native_country'])\n",
    "d['race'] = lb.fit_transform(d['race'])\n"
   ]
  },
  {
   "cell_type": "code",
   "execution_count": null,
   "id": "bb1fa40e",
   "metadata": {},
   "outputs": [],
   "source": [
    "d.dtypes"
   ]
  },
  {
   "cell_type": "code",
   "execution_count": null,
   "id": "68eba0db",
   "metadata": {},
   "outputs": [],
   "source": [
    "x = d[['Age', 'Workclass','Education', 'education_num',\n",
    "       'marital_status', 'occupation', 'relationship', 'race', 'sex',\n",
    "       'capital_gain', 'capital_loss', 'hours_per_week', 'native_country']]\n",
    "y = d['income']"
   ]
  },
  {
   "cell_type": "code",
   "execution_count": null,
   "id": "2b1f196c",
   "metadata": {},
   "outputs": [],
   "source": [
    "x_train,x_test,y_train,y_test = train_test_split(x,y,test_size=0.20)\n",
    "print(x_train.shape,x_test.shape,y_train.shape,y_test.shape)"
   ]
  },
  {
   "cell_type": "code",
   "execution_count": null,
   "id": "d18e25dc",
   "metadata": {},
   "outputs": [],
   "source": [
    "def apply_model(model):\n",
    "    model.fit(x_train,y_train)\n",
    "    print('Accuracy = ',model.score(x_test,y_test))\n",
    "    ypred = model.predict(x_test)\n",
    "    print('Prediction\\n',ypred)\n",
    "    cm = confusion_matrix(y_test,ypred)\n",
    "    cr = classification_report(y_test,ypred)\n",
    "    print('Confusion Matrix\\n',cm)\n",
    "    print('Classification Report\\n',cr)\n",
    "    \n",
    "    print('For <=50K:-')\n",
    "    precision = precision_score(y_test,ypred,average='binary',pos_label = ' <=50K')\n",
    "    recall = recall_score(y_test,ypred,average='binary',pos_label = ' <=50K')\n",
    "    f1 = f1_score(y_test,ypred,average='binary',pos_label = ' <=50K')\n",
    "    accuracy = accuracy_score(y_test,ypred)\n",
    "    print('Precision Score\\n',precision)\n",
    "    print('Recall Score\\n',recall)\n",
    "    print('f1 Score\\n',f1)\n",
    "    print('Accuracy Score\\n',accuracy)\n",
    "\n",
    "    print('\\nFor >50K:-')\n",
    "    precision = precision_score(y_test,ypred,average='binary',pos_label = ' >50K')\n",
    "    recall = recall_score(y_test,ypred,average='binary',pos_label = ' >50K')\n",
    "    f1 = f1_score(y_test,ypred,average='binary',pos_label = ' >50K')\n",
    "    accuracy = accuracy_score(y_test,ypred)\n",
    "    print('Precision Score\\n',precision)\n",
    "    print('Recall Score\\n',recall)\n",
    "    print('f1 Score\\n',f1)\n",
    "    print('Accuracy Score\\n',accuracy)\n"
   ]
  },
  {
   "cell_type": "code",
   "execution_count": null,
   "id": "0b9c4ff7",
   "metadata": {},
   "outputs": [],
   "source": [
    "# Decision Tree Classifier\n",
    "dtc = DecisionTreeClassifier(criterion='gini',max_depth=5,min_samples_split=10)\n",
    "apply_model(dtc)"
   ]
  },
  {
   "cell_type": "code",
   "execution_count": null,
   "id": "a8801b38",
   "metadata": {},
   "outputs": [],
   "source": [
    "# Random Forest Classifier\n",
    "rfc = RandomForestClassifier(n_estimators=70,criterion='gini',max_depth=5,min_samples_split=10)\n",
    "apply_model(rfc)"
   ]
  },
  {
   "cell_type": "code",
   "execution_count": null,
   "id": "a4302cab",
   "metadata": {},
   "outputs": [],
   "source": [
    "# KNN Classifier\n",
    "knn = KNeighborsClassifier(n_neighbors=19)\n",
    "apply_model(knn)\n"
   ]
  },
  {
   "cell_type": "code",
   "execution_count": null,
   "id": "208322f2",
   "metadata": {},
   "outputs": [],
   "source": [
    "# Logistic Regression\n",
    "lr = LogisticRegression()\n",
    "apply_model(lr)\n"
   ]
  },
  {
   "cell_type": "code",
   "execution_count": null,
   "id": "60c01175",
   "metadata": {},
   "outputs": [],
   "source": [
    "# # SVM Classifier is not executing.\n",
    "# svmc = SVC(kernel='linear',C=1)\n",
    "# apply_model(svmc)"
   ]
  },
  {
   "cell_type": "code",
   "execution_count": null,
   "id": "a41eb373",
   "metadata": {},
   "outputs": [],
   "source": [
    "# Reporting the model with best accuracy\n",
    "\n",
    "best_accuracy = {\n",
    "    'Name':['Decision Tree Classifier','Random Forest Classifier','KNN Classifier','Logistic Regression'],\n",
    "    'Accuracy':[dtc.score(x_test,y_test),rfc.score(x_test,y_test),knn.score(x_test,y_test),lr.score(x_test,y_test)]\n",
    "}\n",
    "\n",
    "Accuracy_Report = pd.DataFrame(best_accuracy)\n",
    "Accuracy_Report\n"
   ]
  },
  {
   "cell_type": "code",
   "execution_count": null,
   "id": "ffae382e",
   "metadata": {},
   "outputs": [],
   "source": [
    "maximum = max(dtc.score(x_test,y_test),rfc.score(x_test,y_test),knn.score(x_test,y_test),lr.score(x_test,y_test))\n",
    "if maximum == dtc.score(x_test,y_test):\n",
    "    print('The model with best accuracy is Decision Tree Classifier.')\n",
    "if maximum == rfc.score(x_test,y_test):\n",
    "    print('The model with best accuracy is Random Forest Classifier.')\n",
    "if maximum == knn.score(x_test,y_test):\n",
    "    print('The model with best accuracy is KNN Classifier.')\n",
    "if maximum == lr.score(x_test,y_test):\n",
    "    print('The model with best accuracy is Logistic Regression.')\n"
   ]
  }
 ],
 "metadata": {
  "kernelspec": {
   "display_name": "Python 3.10.2 64-bit",
   "language": "python",
   "name": "python3"
  },
  "language_info": {
   "codemirror_mode": {
    "name": "ipython",
    "version": 3
   },
   "file_extension": ".py",
   "mimetype": "text/x-python",
   "name": "python",
   "nbconvert_exporter": "python",
   "pygments_lexer": "ipython3",
   "version": "3.10.2"
  },
  "vscode": {
   "interpreter": {
    "hash": "3d14bf2688f6ad613b1e156bc80bb6527132984f5cb0be7cc854aa7dca1a1d25"
   }
  }
 },
 "nbformat": 4,
 "nbformat_minor": 5
}
